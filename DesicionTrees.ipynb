{
 "cells": [
  {
   "cell_type": "markdown",
   "metadata": {
    "nbgrader": {
     "grade": false,
     "grade_id": "cell-6bd0516e7cb654f5",
     "locked": true,
     "schema_version": 1,
     "solution": false
    }
   },
   "source": [
    "# Exercise 2: Decision Trees\n",
    "\n",
    "In this assignment you will implement a Decision Tree algorithm as learned in class.\n",
    "\n",
    "## Read the following instructions carefully:\n",
    "\n",
    "1. This jupyter notebook contains all the step by step instructions needed for this exercise.\n",
    "1. Submission includes this notebook only with the exercise number and your ID as the filename. For example: `hw2_123456789_987654321.ipynb` if you submitted in pairs and `hw2_123456789.ipynb` if you submitted the exercise alone.\n",
    "1. Write **efficient vectorized** code whenever possible. Some calculations in this exercise take several minutes when implemented efficiently, and might take much longer otherwise. Unnecessary loops will result in point deduction.\n",
    "1. You are responsible for the correctness of your code and should add as many tests as you see fit. Tests will not be graded nor checked.\n",
    "1. Write your functions in this notebook only. **Do not create Python modules and import them**.\n",
    "1. You are allowed to use functions and methods from the [Python Standard Library](https://docs.python.org/3/library/) and [numpy](https://www.numpy.org/devdocs/reference/) only. **Do not import anything else.**\n",
    "1. Your code must run without errors. Make sure your `numpy` version is at least 1.15.4 and that you are using at least python 3.6. Changes of the configuration we provided are at your own risk. Any code that cannot run will not be graded.\n",
    "1. Write your own code. Cheating will not be tolerated.\n",
    "1. Answers to qualitative questions should be written in **markdown** cells (with $\\LaTeX$ support). Answers that will be written in commented code blocks will not be checked.\n",
    "\n",
    "## In this exercise you will perform the following:\n",
    "1. Practice OOP in python.\n",
    "2. Implement two impurity measures: Gini and Entropy.\n",
    "3. Construct a decision tree algorithm.\n",
    "4. Prune the tree to achieve better results.\n",
    "5. Visualize your results."
   ]
  },
  {
   "cell_type": "markdown",
   "metadata": {},
   "source": [
    "# I have read and understood the instructions: *** YOUR ID HERE ***"
   ]
  },
  {
   "cell_type": "code",
   "execution_count": 1,
   "metadata": {
    "nbgrader": {
     "grade": false,
     "grade_id": "cell-ed9fe7b1026e33cb",
     "locked": true,
     "schema_version": 1,
     "solution": false
    }
   },
   "outputs": [],
   "source": [
    "import numpy as np\n",
    "import pandas as pd\n",
    "import matplotlib.pyplot as plt\n",
    "\n",
    "# make matplotlib figures appear inline in the notebook\n",
    "%matplotlib inline\n",
    "plt.rcParams['figure.figsize'] = (10.0, 8.0) # set default size of plots\n",
    "plt.rcParams['image.interpolation'] = 'nearest'\n",
    "plt.rcParams['image.cmap'] = 'gray'\n",
    "\n",
    "# Ignore warnings\n",
    "import warnings\n",
    "warnings.filterwarnings('ignore')"
   ]
  },
  {
   "cell_type": "markdown",
   "metadata": {
    "nbgrader": {
     "grade": false,
     "grade_id": "cell-c6ac605270c2b091",
     "locked": true,
     "schema_version": 1,
     "solution": false
    }
   },
   "source": [
    "## Warmup - OOP in python\n",
    "\n",
    "Our desicion tree will be implemented using a dedicated python class. Python classes are very similar to classes in Java.\n",
    "\n",
    "\n",
    "You can use the following [site](https://jeffknupp.com/blog/2014/06/18/improve-your-python-python-classes-and-object-oriented-programming/) to learn about classes in python."
   ]
  },
  {
   "cell_type": "code",
   "execution_count": 2,
   "metadata": {},
   "outputs": [],
   "source": [
    "class Node(object):\n",
    "    def __init__(self, data):\n",
    "        self.data = data\n",
    "        self.children = []\n",
    "\n",
    "    def add_child(self, node):\n",
    "        self.children.append(node)"
   ]
  },
  {
   "cell_type": "code",
   "execution_count": 3,
   "metadata": {},
   "outputs": [
    {
     "data": {
      "text/plain": [
       "[<__main__.Node at 0x1d2a4b675e0>, <__main__.Node at 0x1d2a4b67790>]"
      ]
     },
     "execution_count": 3,
     "metadata": {},
     "output_type": "execute_result"
    }
   ],
   "source": [
    "n = Node(5)\n",
    "p = Node(6)\n",
    "q = Node(7)\n",
    "n.add_child(p)\n",
    "n.add_child(q)\n",
    "n.children"
   ]
  },
  {
   "cell_type": "markdown",
   "metadata": {
    "nbgrader": {
     "grade": false,
     "grade_id": "cell-2f1ceb251c649b62",
     "locked": true,
     "schema_version": 1,
     "solution": false
    }
   },
   "source": [
    "## Data preprocessing\n",
    "\n",
    "For the following exercise, we will use a dataset containing mushroom data `agaricus-lepiota.csv`. \n",
    "\n",
    "This data set includes descriptions of hypothetical samples corresponding to 23 species of gilled mushrooms in the Agaricus and Lepiota Family. Each species is identified as definitely edible, definitely poisonous, or of unknown edibility and not recommended. This latter class was combined with the poisonous\n",
    "one (=there are only two classes **edible** and **poisonous**). \n",
    "    \n",
    "The dataset contains 8124 observations with 22 features:\n",
    "1. cap-shape: bell=b,conical=c,convex=x,flat=f,knobbed=k,sunken=s\n",
    "2. cap-surface: fibrous=f,grooves=g,scaly=y,smooth=s\n",
    "3. cap-color: brown=n,buff=b,cinnamon=c,gray=g,green=r,pink=p,purple=u,red=e,white=w,yellow=y\n",
    "4. bruises: bruises=t,no=f\n",
    "5. odor: almond=a,anise=l,creosote=c,fishy=y,foul=f, musty=m,none=n,pungent=p,spicy=s\n",
    "6. gill-attachment: attached=a,descending=d,free=f,notched=n\n",
    "7. gill-spacing: close=c,crowded=w,distant=d\n",
    "8. gill-size: broad=b,narrow=n\n",
    "9. gill-color: black=k,brown=n,buff=b,chocolate=h,gray=g,green=r,orange=o,pink=p,purple=u,red=e,white=w,yellow=y\n",
    "10. stalk-shape: enlarging=e,tapering=t\n",
    "11. stalk-root: bulbous=b,club=c,cup=u,equal=e,rhizomorphs=z,rooted=r\n",
    "12. stalk-surface-above-ring: fibrous=f,scaly=y,silky=k,smooth=s\n",
    "13. stalk-surface-below-ring: fibrous=f,scaly=y,silky=k,smooth=s\n",
    "14. stalk-color-above-ring: brown=n,buff=b,cinnamon=c,gray=g,orange=o,pink=p,red=e,white=w,yellow=y\n",
    "15. stalk-color-below-ring: brown=n,buff=b,cinnamon=c,gray=g,orange=o,pink=p,red=e,white=w,yellow=y\n",
    "16. veil-type: partial=p,universal=u\n",
    "17. veil-color: brown=n,orange=o,white=w,yellow=y\n",
    "18. ring-number: none=n,one=o,two=t\n",
    "19. ring-type: cobwebby=c,evanescent=e,flaring=f,large=l,none=n,pendant=p,sheathing=s,zone=z\n",
    "20. spore-print-color: black=k,brown=n,buff=b,chocolate=h,green=r,orange=o,purple=u,white=w,yellow=y\n",
    "21. population: abundant=a,clustered=c,numerous=n,scattered=s,several=v,solitary=y\n",
    "22. habitat: grasses=g,leaves=l,meadows=m,paths=p,urban=u,waste=w,woods=d\n",
    "\n",
    "First, we will read and explore the data using pandas and the `.read_csv` method. Pandas is an open source library providing high-performance, easy-to-use data structures and data analysis tools for the Python programming language."
   ]
  },
  {
   "cell_type": "code",
   "execution_count": 4,
   "metadata": {
    "nbgrader": {
     "grade": false,
     "grade_id": "cell-d79cb4542926ad3f",
     "locked": true,
     "schema_version": 1,
     "solution": false
    }
   },
   "outputs": [
    {
     "data": {
      "text/plain": [
       "pandas.core.frame.DataFrame"
      ]
     },
     "execution_count": 4,
     "metadata": {},
     "output_type": "execute_result"
    }
   ],
   "source": [
    "# load dataset\n",
    "data = pd.read_csv('agaricus-lepiota.csv')\n",
    "type(data)"
   ]
  },
  {
   "cell_type": "code",
   "execution_count": 5,
   "metadata": {},
   "outputs": [
    {
     "data": {
      "text/html": [
       "<div>\n",
       "<style scoped>\n",
       "    .dataframe tbody tr th:only-of-type {\n",
       "        vertical-align: middle;\n",
       "    }\n",
       "\n",
       "    .dataframe tbody tr th {\n",
       "        vertical-align: top;\n",
       "    }\n",
       "\n",
       "    .dataframe thead th {\n",
       "        text-align: right;\n",
       "    }\n",
       "</style>\n",
       "<table border=\"1\" class=\"dataframe\">\n",
       "  <thead>\n",
       "    <tr style=\"text-align: right;\">\n",
       "      <th></th>\n",
       "      <th>cap-shape</th>\n",
       "      <th>cap-surface</th>\n",
       "      <th>cap-color</th>\n",
       "      <th>bruises</th>\n",
       "      <th>odor</th>\n",
       "      <th>gill-attachment</th>\n",
       "      <th>gill-spacing</th>\n",
       "      <th>gill-size</th>\n",
       "      <th>gill-color</th>\n",
       "      <th>stalk-shape</th>\n",
       "      <th>...</th>\n",
       "      <th>stalk-color-above-ring</th>\n",
       "      <th>stalk-color-below-ring</th>\n",
       "      <th>veil-type</th>\n",
       "      <th>veil-color</th>\n",
       "      <th>ring-number</th>\n",
       "      <th>ring-type</th>\n",
       "      <th>spore-print-color</th>\n",
       "      <th>population</th>\n",
       "      <th>habitat</th>\n",
       "      <th>class</th>\n",
       "    </tr>\n",
       "  </thead>\n",
       "  <tbody>\n",
       "    <tr>\n",
       "      <th>count</th>\n",
       "      <td>8124</td>\n",
       "      <td>8124</td>\n",
       "      <td>8124</td>\n",
       "      <td>8124</td>\n",
       "      <td>8124</td>\n",
       "      <td>8124</td>\n",
       "      <td>8124</td>\n",
       "      <td>8124</td>\n",
       "      <td>8124</td>\n",
       "      <td>8124</td>\n",
       "      <td>...</td>\n",
       "      <td>8124</td>\n",
       "      <td>8124</td>\n",
       "      <td>8124</td>\n",
       "      <td>8124</td>\n",
       "      <td>8124</td>\n",
       "      <td>8124</td>\n",
       "      <td>8124</td>\n",
       "      <td>8124</td>\n",
       "      <td>8124</td>\n",
       "      <td>8124</td>\n",
       "    </tr>\n",
       "    <tr>\n",
       "      <th>unique</th>\n",
       "      <td>6</td>\n",
       "      <td>4</td>\n",
       "      <td>10</td>\n",
       "      <td>2</td>\n",
       "      <td>9</td>\n",
       "      <td>2</td>\n",
       "      <td>2</td>\n",
       "      <td>2</td>\n",
       "      <td>12</td>\n",
       "      <td>2</td>\n",
       "      <td>...</td>\n",
       "      <td>9</td>\n",
       "      <td>9</td>\n",
       "      <td>1</td>\n",
       "      <td>4</td>\n",
       "      <td>3</td>\n",
       "      <td>5</td>\n",
       "      <td>9</td>\n",
       "      <td>6</td>\n",
       "      <td>7</td>\n",
       "      <td>2</td>\n",
       "    </tr>\n",
       "    <tr>\n",
       "      <th>top</th>\n",
       "      <td>x</td>\n",
       "      <td>y</td>\n",
       "      <td>n</td>\n",
       "      <td>f</td>\n",
       "      <td>n</td>\n",
       "      <td>f</td>\n",
       "      <td>c</td>\n",
       "      <td>b</td>\n",
       "      <td>b</td>\n",
       "      <td>t</td>\n",
       "      <td>...</td>\n",
       "      <td>w</td>\n",
       "      <td>w</td>\n",
       "      <td>p</td>\n",
       "      <td>w</td>\n",
       "      <td>o</td>\n",
       "      <td>p</td>\n",
       "      <td>w</td>\n",
       "      <td>v</td>\n",
       "      <td>d</td>\n",
       "      <td>e</td>\n",
       "    </tr>\n",
       "    <tr>\n",
       "      <th>freq</th>\n",
       "      <td>3656</td>\n",
       "      <td>3244</td>\n",
       "      <td>2284</td>\n",
       "      <td>4748</td>\n",
       "      <td>3528</td>\n",
       "      <td>7914</td>\n",
       "      <td>6812</td>\n",
       "      <td>5612</td>\n",
       "      <td>1728</td>\n",
       "      <td>4608</td>\n",
       "      <td>...</td>\n",
       "      <td>4464</td>\n",
       "      <td>4384</td>\n",
       "      <td>8124</td>\n",
       "      <td>7924</td>\n",
       "      <td>7488</td>\n",
       "      <td>3968</td>\n",
       "      <td>2388</td>\n",
       "      <td>4040</td>\n",
       "      <td>3148</td>\n",
       "      <td>4182</td>\n",
       "    </tr>\n",
       "  </tbody>\n",
       "</table>\n",
       "<p>4 rows × 22 columns</p>\n",
       "</div>"
      ],
      "text/plain": [
       "       cap-shape cap-surface cap-color bruises  odor gill-attachment  \\\n",
       "count       8124        8124      8124    8124  8124            8124   \n",
       "unique         6           4        10       2     9               2   \n",
       "top            x           y         n       f     n               f   \n",
       "freq        3656        3244      2284    4748  3528            7914   \n",
       "\n",
       "       gill-spacing gill-size gill-color stalk-shape  ...  \\\n",
       "count          8124      8124       8124        8124  ...   \n",
       "unique            2         2         12           2  ...   \n",
       "top               c         b          b           t  ...   \n",
       "freq           6812      5612       1728        4608  ...   \n",
       "\n",
       "       stalk-color-above-ring stalk-color-below-ring veil-type veil-color  \\\n",
       "count                    8124                   8124      8124       8124   \n",
       "unique                      9                      9         1          4   \n",
       "top                         w                      w         p          w   \n",
       "freq                     4464                   4384      8124       7924   \n",
       "\n",
       "       ring-number ring-type spore-print-color population habitat class  \n",
       "count         8124      8124              8124       8124    8124  8124  \n",
       "unique           3         5                 9          6       7     2  \n",
       "top              o         p                 w          v       d     e  \n",
       "freq          7488      3968              2388       4040    3148  4182  \n",
       "\n",
       "[4 rows x 22 columns]"
      ]
     },
     "execution_count": 5,
     "metadata": {},
     "output_type": "execute_result"
    }
   ],
   "source": [
    "data.describe()"
   ]
  },
  {
   "cell_type": "code",
   "execution_count": 6,
   "metadata": {},
   "outputs": [
    {
     "name": "stdout",
     "output_type": "stream",
     "text": [
      "[1 2 3 4 5 6]\n",
      "[0.33333333 0.66666667 1.         1.33333333 1.66666667 2.        ]\n",
      "[1 1 1 1 1 1]\n",
      "[0.00308642 0.01234568 0.02777778 0.04938272 0.07716049 0.11111111]\n",
      "0.2808641975308642\n"
     ]
    }
   ],
   "source": [
    "#this block is for tests\n",
    "df = pd.DataFrame({'A': [1, 2, 3], \n",
    "                   'B': [1, 2, np.nan], \n",
    "                   'C': [4, 5, 6], \n",
    "                   'D': [np.nan, np.nan, np.nan]})\n",
    "missing_values = df.columns[df.isnull().any()].tolist() #crate a list of all the columns with missing values\n",
    "#B = df.copy\n",
    "#print(missing_values)\n",
    "for miss in missing_values:\n",
    "  df.drop(miss,inplace=True, axis=1)  #delete al the columns with missung values from df\n",
    "\n",
    "values, counts = np.unique(df, return_counts=True)\n",
    "Ssize = df.shape[0]\n",
    "print(values)\n",
    "values = values/3\n",
    "print(values)\n",
    "print(counts)\n",
    "SumSquerdPropability = np.square((values/6))\n",
    "print(SumSquerdPropability)\n",
    "print(sum(SumSquerdPropability))\n",
    "\n",
    "\n",
    "\n"
   ]
  },
  {
   "cell_type": "markdown",
   "metadata": {},
   "source": [
    "One of the advantages of the Decision Tree algorithm is that almost no preprocessing is required. However, finding missing values is always required."
   ]
  },
  {
   "cell_type": "code",
   "execution_count": 7,
   "metadata": {},
   "outputs": [],
   "source": [
    "#############################################################################\n",
    "# TODO: Find columns with missing values and remove them from the data.#\n",
    "#############################################################################\n",
    "\n",
    "# Create a list of all the culomns in the data that have missing values\n",
    "MissingValueColumns = data.columns[data.isnull().any()].tolist()\n",
    "\n",
    "#remove all the culomns with missing values from data\n",
    "for column in MissingValueColumns:\n",
    "    data.drop(column ,inplace=True, axis=1)\n",
    "\n",
    "#############################################################################\n",
    "#                             END OF YOUR CODE                              #\n",
    "#############################################################################"
   ]
  },
  {
   "cell_type": "code",
   "execution_count": 8,
   "metadata": {},
   "outputs": [
    {
     "data": {
      "text/html": [
       "<div>\n",
       "<style scoped>\n",
       "    .dataframe tbody tr th:only-of-type {\n",
       "        vertical-align: middle;\n",
       "    }\n",
       "\n",
       "    .dataframe tbody tr th {\n",
       "        vertical-align: top;\n",
       "    }\n",
       "\n",
       "    .dataframe thead th {\n",
       "        text-align: right;\n",
       "    }\n",
       "</style>\n",
       "<table border=\"1\" class=\"dataframe\">\n",
       "  <thead>\n",
       "    <tr style=\"text-align: right;\">\n",
       "      <th></th>\n",
       "      <th>cap-shape</th>\n",
       "      <th>cap-surface</th>\n",
       "      <th>cap-color</th>\n",
       "      <th>bruises</th>\n",
       "      <th>odor</th>\n",
       "      <th>gill-attachment</th>\n",
       "      <th>gill-spacing</th>\n",
       "      <th>gill-size</th>\n",
       "      <th>gill-color</th>\n",
       "      <th>stalk-shape</th>\n",
       "      <th>...</th>\n",
       "      <th>stalk-color-above-ring</th>\n",
       "      <th>stalk-color-below-ring</th>\n",
       "      <th>veil-type</th>\n",
       "      <th>veil-color</th>\n",
       "      <th>ring-number</th>\n",
       "      <th>ring-type</th>\n",
       "      <th>spore-print-color</th>\n",
       "      <th>population</th>\n",
       "      <th>habitat</th>\n",
       "      <th>class</th>\n",
       "    </tr>\n",
       "  </thead>\n",
       "  <tbody>\n",
       "    <tr>\n",
       "      <th>count</th>\n",
       "      <td>8124</td>\n",
       "      <td>8124</td>\n",
       "      <td>8124</td>\n",
       "      <td>8124</td>\n",
       "      <td>8124</td>\n",
       "      <td>8124</td>\n",
       "      <td>8124</td>\n",
       "      <td>8124</td>\n",
       "      <td>8124</td>\n",
       "      <td>8124</td>\n",
       "      <td>...</td>\n",
       "      <td>8124</td>\n",
       "      <td>8124</td>\n",
       "      <td>8124</td>\n",
       "      <td>8124</td>\n",
       "      <td>8124</td>\n",
       "      <td>8124</td>\n",
       "      <td>8124</td>\n",
       "      <td>8124</td>\n",
       "      <td>8124</td>\n",
       "      <td>8124</td>\n",
       "    </tr>\n",
       "    <tr>\n",
       "      <th>unique</th>\n",
       "      <td>6</td>\n",
       "      <td>4</td>\n",
       "      <td>10</td>\n",
       "      <td>2</td>\n",
       "      <td>9</td>\n",
       "      <td>2</td>\n",
       "      <td>2</td>\n",
       "      <td>2</td>\n",
       "      <td>12</td>\n",
       "      <td>2</td>\n",
       "      <td>...</td>\n",
       "      <td>9</td>\n",
       "      <td>9</td>\n",
       "      <td>1</td>\n",
       "      <td>4</td>\n",
       "      <td>3</td>\n",
       "      <td>5</td>\n",
       "      <td>9</td>\n",
       "      <td>6</td>\n",
       "      <td>7</td>\n",
       "      <td>2</td>\n",
       "    </tr>\n",
       "    <tr>\n",
       "      <th>top</th>\n",
       "      <td>x</td>\n",
       "      <td>y</td>\n",
       "      <td>n</td>\n",
       "      <td>f</td>\n",
       "      <td>n</td>\n",
       "      <td>f</td>\n",
       "      <td>c</td>\n",
       "      <td>b</td>\n",
       "      <td>b</td>\n",
       "      <td>t</td>\n",
       "      <td>...</td>\n",
       "      <td>w</td>\n",
       "      <td>w</td>\n",
       "      <td>p</td>\n",
       "      <td>w</td>\n",
       "      <td>o</td>\n",
       "      <td>p</td>\n",
       "      <td>w</td>\n",
       "      <td>v</td>\n",
       "      <td>d</td>\n",
       "      <td>e</td>\n",
       "    </tr>\n",
       "    <tr>\n",
       "      <th>freq</th>\n",
       "      <td>3656</td>\n",
       "      <td>3244</td>\n",
       "      <td>2284</td>\n",
       "      <td>4748</td>\n",
       "      <td>3528</td>\n",
       "      <td>7914</td>\n",
       "      <td>6812</td>\n",
       "      <td>5612</td>\n",
       "      <td>1728</td>\n",
       "      <td>4608</td>\n",
       "      <td>...</td>\n",
       "      <td>4464</td>\n",
       "      <td>4384</td>\n",
       "      <td>8124</td>\n",
       "      <td>7924</td>\n",
       "      <td>7488</td>\n",
       "      <td>3968</td>\n",
       "      <td>2388</td>\n",
       "      <td>4040</td>\n",
       "      <td>3148</td>\n",
       "      <td>4182</td>\n",
       "    </tr>\n",
       "  </tbody>\n",
       "</table>\n",
       "<p>4 rows × 22 columns</p>\n",
       "</div>"
      ],
      "text/plain": [
       "       cap-shape cap-surface cap-color bruises  odor gill-attachment  \\\n",
       "count       8124        8124      8124    8124  8124            8124   \n",
       "unique         6           4        10       2     9               2   \n",
       "top            x           y         n       f     n               f   \n",
       "freq        3656        3244      2284    4748  3528            7914   \n",
       "\n",
       "       gill-spacing gill-size gill-color stalk-shape  ...  \\\n",
       "count          8124      8124       8124        8124  ...   \n",
       "unique            2         2         12           2  ...   \n",
       "top               c         b          b           t  ...   \n",
       "freq           6812      5612       1728        4608  ...   \n",
       "\n",
       "       stalk-color-above-ring stalk-color-below-ring veil-type veil-color  \\\n",
       "count                    8124                   8124      8124       8124   \n",
       "unique                      9                      9         1          4   \n",
       "top                         w                      w         p          w   \n",
       "freq                     4464                   4384      8124       7924   \n",
       "\n",
       "       ring-number ring-type spore-print-color population habitat class  \n",
       "count         8124      8124              8124       8124    8124  8124  \n",
       "unique           3         5                 9          6       7     2  \n",
       "top              o         p                 w          v       d     e  \n",
       "freq          7488      3968              2388       4040    3148  4182  \n",
       "\n",
       "[4 rows x 22 columns]"
      ]
     },
     "execution_count": 8,
     "metadata": {},
     "output_type": "execute_result"
    }
   ],
   "source": [
    "data.describe()"
   ]
  },
  {
   "cell_type": "markdown",
   "metadata": {},
   "source": [
    "We will split the dataset to `Training` and `Testing` datasets."
   ]
  },
  {
   "cell_type": "code",
   "execution_count": 9,
   "metadata": {},
   "outputs": [
    {
     "name": "stdout",
     "output_type": "stream",
     "text": [
      "Training dataset shape:  (6093, 22)\n",
      "Testing dataset shape:  (2031, 22)\n"
     ]
    }
   ],
   "source": [
    "from sklearn.model_selection import train_test_split\n",
    "# Making sure the last column will hold the labels\n",
    "X, y = data.drop('class', axis=1), data['class']\n",
    "X = np.column_stack([X,y])\n",
    "# split dataset using random_state to get the same split each time\n",
    "X_train, X_test = train_test_split(X, random_state=99)\n",
    "\n",
    "print(\"Training dataset shape: \", X_train.shape)\n",
    "print(\"Testing dataset shape: \", X_test.shape)"
   ]
  },
  {
   "cell_type": "code",
   "execution_count": 10,
   "metadata": {},
   "outputs": [
    {
     "data": {
      "text/plain": [
       "(8124,)"
      ]
     },
     "execution_count": 10,
     "metadata": {},
     "output_type": "execute_result"
    }
   ],
   "source": [
    "y.shape"
   ]
  },
  {
   "cell_type": "markdown",
   "metadata": {
    "nbgrader": {
     "grade": false,
     "grade_id": "cell-fd7b0191f3f1e897",
     "locked": true,
     "schema_version": 1,
     "solution": false
    }
   },
   "source": [
    "## Impurity Measures\n",
    "\n",
    "Impurity is a measure of how often a randomly chosen element from the set would be incorrectly labeled if it was randomly labeled according to the distribution of labels in the subset. Implement the functions `calc_gini` and `calc_entropy`. You are encouraged to test your implementation (10 points)."
   ]
  },
  {
   "cell_type": "code",
   "execution_count": 11,
   "metadata": {},
   "outputs": [],
   "source": [
    "def calc_gini(data):\n",
    "    \"\"\"\n",
    "    Calculate gini impurity measure of a dataset.\n",
    " \n",
    "    Input:\n",
    "    - data: any dataset where the last column holds the labels.\n",
    " \n",
    "    Returns the gini impurity.    \n",
    "    \"\"\"\n",
    "    gini = 0.0\n",
    "    ###########################################################################\n",
    "    # TODO: Implement the function.                                           #\n",
    "    ###########################################################################\n",
    "    #Ssize = the numbers of elements in the data \n",
    "    Labelscolumn = data[:,data.shape[1] -1]\n",
    "    Ssize = data.shape[0]\n",
    "    #print(Ssize)\n",
    "    \n",
    "    #The uniqe function return 2 values \n",
    "    #SI is an array that has the all the differnt values \"names\"\n",
    "    #SIsize is an array with the corespondig size of for each \"group\"(element) in SI \n",
    "    SI, SIsize = np.unique(Labelscolumn, return_counts=True)\n",
    "    #print(SIsize)\n",
    "\n",
    "    \n",
    "    #divide all the elemnt in SIsize with the constant Ssize\n",
    "    SIdevidebyS = SIsize/Ssize\n",
    "    \n",
    "    #return the sum of the squerd propabilitis of the elemnt in SI\n",
    "    SumSquerdPropability = sum(np.square(SIdevidebyS))\n",
    "    \n",
    "    #After we made the sum of (|SI|/|S|), the last part is: 1 - SumSquerdPropability \n",
    "    \n",
    "    gini = 1 - SumSquerdPropability \n",
    "    \n",
    "    \n",
    "    ###########################################################################\n",
    "    #                             END OF YOUR CODE                            #\n",
    "    ###########################################################################\n",
    "    return gini"
   ]
  },
  {
   "cell_type": "code",
   "execution_count": 12,
   "metadata": {},
   "outputs": [],
   "source": [
    "def calc_entropy(data):\n",
    "    \"\"\"\n",
    "    Calculate the entropy of a dataset.\n",
    "\n",
    "    Input:\n",
    "    - data: any dataset where the last column holds the labels.\n",
    "\n",
    "    Returns the entropy of the dataset.    \n",
    "    \"\"\"\n",
    "    entropy = 0.0\n",
    "    ###########################################################################\n",
    "    # TODO: Implement the function.                                           #\n",
    "    ###########################################################################\n",
    "    #Ssize = the numbers of elements in the data \n",
    "    Labelscolumn = data[:,data.shape[1]-1]\n",
    "    Ssize = data.shape[0]\n",
    "    \n",
    "    #The uniqe function return 2 values \n",
    "    #SI is an array that have the all the differnt values \"names\"\n",
    "    #SIsize is an array with the corespondig size of for each \"group\"(element) in SI \n",
    "    SI, SIsize = np.unique(Labelscolumn, return_counts=True)\n",
    "    \n",
    "    \n",
    "    #divide all the elemnt in SIsize with the constant Ssize\n",
    "    SIdevidebyS = SIsize/Ssize\n",
    "    \n",
    "    #return an arry with log(|SI|\\|S|)\n",
    "    LogSIdevidebyS = (np.log2(SIdevidebyS))\n",
    "    \n",
    "    #entropy = -SUM((|SI|\\|S|)\\(log(|SI|\\|S|))\n",
    "    \n",
    "    entropy = (-1) * sum(np.multiply(SIdevidebyS,LogSIdevidebyS))\n",
    "    \n",
    "    ###########################################################################\n",
    "    #                             END OF YOUR CODE                            #\n",
    "    ###########################################################################\n",
    "    return entropy"
   ]
  },
  {
   "cell_type": "code",
   "execution_count": 13,
   "metadata": {
    "scrolled": true
   },
   "outputs": [
    {
     "data": {
      "text/plain": [
       "(0.4995636322379775, 0.9993703627906085)"
      ]
     },
     "execution_count": 13,
     "metadata": {},
     "output_type": "execute_result"
    }
   ],
   "source": [
    "##### Your Tests Here #####\n",
    "calc_gini(X), calc_entropy(X)"
   ]
  },
  {
   "cell_type": "markdown",
   "metadata": {},
   "source": [
    "## Goodness of Split\n",
    "\n",
    "Given a feature the Goodnees of Split measures the reduction in the impurity if we split the data according to the feature.\n",
    "$$\n",
    "\\Delta\\varphi(S, A) = \\varphi(S) - \\sum_{v\\in Values(A)} \\frac{|S_v|}{|S|}\\varphi(S_v)\n",
    "$$\n",
    "\n",
    "In our implementation the goodness_of_split function will return either the Goodness of Split or the Gain Ratio as learned in class. You'll control the return value with the `gain_ratio` parameter. If this parameter will set to False (the default value) it will return the regular Goodness of Split. If it will set to True it will return the Gain Ratio.\n",
    "$$\n",
    "GainRatio(S,A)=\\frac{InformationGain(S,A)}{SplitInformation(S,A)}\n",
    "$$\n",
    "Where:\n",
    "$$\n",
    "InformationGain(S,A)=Goodness\\ of\\ Split\\ calculated\\ with\\ Entropy\\ as\\ the\\ Impurity\\ function \\\\\n",
    "SplitInformation(S,A)=- \\sum_{a\\in A} \\frac{|S_a|}{|S|}\\log\\frac{|S_a|}{|S|}\n",
    "$$\n",
    "NOTE: you can add more parameters to the function and you can also add more returning variables (The given parameters and the given returning variable should not be touch). (10 Points)"
   ]
  },
  {
   "cell_type": "code",
   "execution_count": 14,
   "metadata": {},
   "outputs": [],
   "source": [
    "def goodness_of_split(data, feature, impurity_func, gain_ratio=False):\n",
    "    \"\"\"\n",
    "    Calculate the goodness of split of a dataset given a feature and impurity function.\n",
    "\n",
    "    Input:\n",
    "    - data: any dataset where the last column holds the labels.\n",
    "    - feature: the feature index.\n",
    "    - impurity func: a function that calculates the impurity.\n",
    "    - gain_ratio: goodness of split or gain ratio flag.\n",
    "\n",
    "    Returns the goodness of split (or the Gain Ration).  \n",
    "    \"\"\"\n",
    "    ###########################################################################\n",
    "    # TODO: Implement the function.                                           #\n",
    "    ###########################################################################\n",
    "    #check for the correct impurity function to use\n",
    "    if gain_ratio:  \n",
    "        impurity_func = calc_entropy\n",
    "    \n",
    "    feature_column = data[:,feature] #the column of the feature\n",
    "    \n",
    "    #count the number of each uniqe value in the given feature culomn\n",
    "    unique_values, count = np.unique(feature_column, return_counts=True)\n",
    "    \n",
    "    total_instances = data.shape[0] #the size of S \n",
    "    \n",
    "    #create a vector of the impurity of each sub array after spliting\n",
    "    impurity_by_unique_values = [impurity_func(data[feature_column == value]) for value in unique_values]\n",
    "\n",
    "    # calculate the sum of the impurity of the children (we multipaly the count vectoer wite the impurity vector)\n",
    "    sum_children_impurity = np.sum(count * np.array(impurity_by_unique_values))/total_instances\n",
    "    goodness =  impurity_func(data) - sum_children_impurity\n",
    "    \n",
    "    if gain_ratio:\n",
    "        information_gain = goodness \n",
    "        feature_propabilities = count/total_instances\n",
    "        split_information = -np.sum(feature_propabilities * np.log2(feature_propabilities))\n",
    "        goodness = information_gain / split_information\n",
    "    ###########################################################################\n",
    "    #                             END OF YOUR CODE                            #\n",
    "    ###########################################################################\n",
    "    return goodness"
   ]
  },
  {
   "cell_type": "markdown",
   "metadata": {},
   "source": [
    "## Building a Decision Tree\n",
    "\n",
    "Use a Python class to construct the decision tree. Your class should support the following functionality:\n",
    "\n",
    "1. Initiating a node for a decision tree. You will need to use several class methods and class attributes and you are free to use them as you see fit. We recommend that every node will hold the feature and value used for the split and its children.\n",
    "2. Your code should support both Gini and Entropy as impurity measures. \n",
    "3. The provided data includes categorical data. In this exercise, when splitting a node create the number of children needed according to the attribute unique values.\n",
    "\n",
    "Complete the class `DecisionNode`. The structure of this class is entirely up to you. \n",
    "\n",
    "Complete the function `build_tree`. This function should get the training dataset and the impurity as inputs, initiate a root for the decision tree and construct the tree according to the procedure you learned in class. (30 points)"
   ]
  },
  {
   "cell_type": "code",
   "execution_count": 15,
   "metadata": {},
   "outputs": [],
   "source": [
    "class DecisionNode:\n",
    "    \"\"\"\n",
    "    This class will hold everything you require to construct a decision tree.\n",
    "    The structure of this class is up to you. However, you need to support basic \n",
    "    functionality as described above. It is highly recommended that you \n",
    "    first read and understand the entire exercise before diving into this class.\n",
    "    \"\"\"\n",
    "    \"\"\"\n",
    "    - featue: the current feature the node has bin split by\n",
    "    - data: the data after being split by that same feature\n",
    "    - impurity: the impurity function given\n",
    "    - gain_ratio: goodness of split or gain ratio flag\n",
    "    - current_deapth: the current depth of the node\n",
    "    - children: list of children created when impurity is not 0 and \n",
    "    - value: the value at current feature of this specific node\n",
    "    \n",
    "    \"\"\"\n",
    "    def __init__(self, data, feature, value, goodness, impurity, list_of_path_features, gain_ratio=False, current_depth=0):\n",
    "        self.feature = feature # the feature column index it will split by\n",
    "        self.data = data # the data given to the decision node after\n",
    "        self.goodness = goodness\n",
    "        self.impurity_func = impurity # impurity function to be used\n",
    "        self.gain_ratio = gain_ratio # boolean that defines if to return gain_ratio or goodness of split as split paramiter\n",
    "        self.children = [] # only filled when epxand_or_finnish is called\n",
    "        self.value = value # the value that was split by\n",
    "        self.current_depth = current_depth\n",
    "        self.impurity = self.impurity_func(self.data) # get impurity of current \n",
    "        self.list_of_path_features = list_of_path_features\n",
    "\n",
    "        #implamnted for prediction\n",
    "        self.pred = self.get_favored_label_value()\n",
    "\n",
    "    def add_child(self, Dec_node):\n",
    "        self.children.append(Dec_node)\n",
    "\n",
    "    def get_favored_label_value(self): # returns favored label value\n",
    "        current_label_data = self.data[:,(self.data.shape[1]-1)] # get label column from current_data\n",
    "        unique, pos = np.unique(current_label_data, return_inverse = True)\n",
    "        counts = np.bincount(pos)\n",
    "        maxpos = counts.argmax()\n",
    "        return(unique[maxpos])\n",
    "\n",
    "\n",
    "    def count_children(self):\n",
    "        if len(self.children) == 0: \n",
    "            return 1\n",
    "        else:\n",
    "            return 1 + sum([child.count_children() for child in self.children])\n",
    "    \n",
    "    def __str__(self):\n",
    "        return f\"I am a node at {self.current_depth} depth, my goodness is {self.goodness} , my value is {self.value} and I am split on feature {self.feature}\"\n",
    "    "
   ]
  },
  {
   "cell_type": "code",
   "execution_count": 16,
   "metadata": {},
   "outputs": [],
   "source": [
    "\n",
    "def get_current_best_feature(data, impurity_func, list_of_used_features ,gain_ratio=False): # returns feature index with best goodnes_of split based on current data and list_of_path-features \n",
    "    count = 0\n",
    "    best_spliting_feature, max_goodness = -1, -1\n",
    "    for value in list_of_used_features:\n",
    "        if value == False:\n",
    "            temp_goodness = goodness_of_split(data, count, impurity_func, gain_ratio)\n",
    "            if temp_goodness > max_goodness:\n",
    "                max_goodness = temp_goodness\n",
    "                best_spliting_feature = count\n",
    "        count +=1\n",
    "    return best_spliting_feature, max_goodness\n",
    "    \n",
    "def get_values_by_feature(data, feature): # returns list unique of values by feature index on data\n",
    "    return np.unique(data[:,feature])\n",
    "    \n",
    "def get_data_by_feature_value(data, feature, value): # returns data where on column feature every row is equal to value\n",
    "    sub_data = data[data[:,feature] == value]\n",
    "    return sub_data\n",
    "    \n",
    "\n",
    "def build_tree(data, impurity, gain_ratio=False, min_samples_split=1, max_depth=1000):\n",
    "    \"\"\"\n",
    "    Build a tree using the given impurity measure and training dataset. \n",
    "    You are required to fully grow the tree until all leaves are pure. \n",
    "\n",
    "    Input:\n",
    "    - data: the training dataset.\n",
    "    - impurity: the chosen impurity measure. Notice that you can send a function\n",
    "                as an argument in python.\n",
    "    - gain_ratio: goodness of split or gain ratio flag\n",
    "    - min_samples_split: the minimum number of samples required to split an internal node\n",
    "    - max_depth: the allowable depth of the tree\n",
    "\n",
    "    Output: the root node of the tree.\n",
    "    \"\"\"\n",
    "\n",
    "    ###########################################################################\n",
    "    # TODO: Implement the function.                                           #\n",
    "    ###########################################################################\n",
    "    \n",
    "    list_of_path_features = [False for x in range(0,data.shape[1]-1) ] # create a list of feature indecease where the path to current node was to not check twice\n",
    "    first_feature, first_goodness = get_current_best_feature(data, impurity, list_of_path_features) # get feature for root\n",
    "    root = DecisionNode(data, first_feature, None, first_goodness, impurity, list_of_path_features ) # NODE CREATION HERE\n",
    "    queue = [root]\n",
    "    while len(queue) > 0:\n",
    "        current_node = queue.pop(0) # pop first node\n",
    "        current_node.list_of_path_features[current_node.feature] = True\n",
    "        \n",
    "        \n",
    "        # check parmiters for leaf: data > min-sample_split, more than only one split value, depth < max_depth and current_node.goodness > 0\n",
    "        if current_node.data.shape[0] > min_samples_split  and current_node.goodness > 0 and current_node.current_depth < max_depth:\n",
    "            # after check this is not a leaf\n",
    "            # update list_of_path_features\n",
    "            current_values = get_values_by_feature(current_node.data, current_node.feature)\n",
    "            if len(current_values) !=1:\n",
    "                for value in current_values:\n",
    "                    updated_feature_path = current_node.list_of_path_features.copy()\n",
    "                    sub_data = get_data_by_feature_value(current_node.data, current_node.feature, value) # sub data where all rows are value at feature\n",
    "                    sub_feature, sub_goodness = get_current_best_feature(sub_data, impurity, current_node.list_of_path_features, gain_ratio) # get best feature for current sub_data\n",
    "                    sub_node = DecisionNode(sub_data, sub_feature, value, sub_goodness, impurity, updated_feature_path, gain_ratio, (current_node.current_depth + 1))\n",
    "                    current_node.add_child(sub_node)\n",
    "                    queue.append(sub_node)\n",
    "                \n",
    "            # split data, find best features for sub data, create nodes by that feature and data and add to queue and children list of current_node\n",
    "        #print(current_node)\n",
    "    ###########################################################################\n",
    "    #                             END OF YOUR CODE                            #\n",
    "    ###########################################################################\n",
    "    return root"
   ]
  },
  {
   "cell_type": "code",
   "execution_count": 17,
   "metadata": {},
   "outputs": [],
   "source": [
    "# python supports passing a function as an argument to another function.\n",
    "tree_gini = build_tree(data=X_train, impurity=calc_gini) # gini and goodness of split\n",
    "tree_entropy = build_tree(data=X_train, impurity=calc_entropy) # entropy and goodness of split\n",
    "tree_entropy_gain_ratio = build_tree(data=X_train, impurity=calc_entropy, gain_ratio=True) # entropy and gain ratio"
   ]
  },
  {
   "cell_type": "code",
   "execution_count": 18,
   "metadata": {},
   "outputs": [
    {
     "name": "stdout",
     "output_type": "stream",
     "text": [
      "3231\n",
      "3227\n",
      "2447\n"
     ]
    }
   ],
   "source": [
    "print(tree_gini.count_children())\n",
    "print(tree_entropy.count_children())\n",
    "print(tree_entropy_gain_ratio.count_children())"
   ]
  },
  {
   "cell_type": "code",
   "execution_count": 19,
   "metadata": {},
   "outputs": [],
   "source": [
    "#testing\n",
    "test_tree = build_tree(X_train, calc_gini, min_samples_split=5)"
   ]
  },
  {
   "cell_type": "code",
   "execution_count": null,
   "metadata": {},
   "outputs": [],
   "source": []
  },
  {
   "cell_type": "markdown",
   "metadata": {},
   "source": [
    "## Tree evaluation\n",
    "\n",
    "Complete the functions `predict` and `calc_accuracy`. (10 points)"
   ]
  },
  {
   "cell_type": "code",
   "execution_count": 20,
   "metadata": {},
   "outputs": [],
   "source": [
    "def predict(node, instance):\n",
    "    \"\"\"\n",
    "    Predict a given instance using the decision tree\n",
    " \n",
    "    Input:\n",
    "    - root: the root of the decision tree.\n",
    "    - instance: an row vector from the dataset. Note that the last element \n",
    "                of this vector is the label of the instance.\n",
    " \n",
    "    Output: the prediction of the instance.\n",
    "    \"\"\"\n",
    "    pred = None\n",
    "    ###########################################################################\n",
    "    # TODO: Implement the function.                                           #\n",
    "    ###########################################################################\n",
    "    while len(node.children) > 0:\n",
    "        for child_node in node.children: # iterate over all children to find matching child in path\n",
    "            given_value = instance[node.feature] # the value of the feature in the current row\n",
    "            node_value = child_node.value # the value of the child\n",
    "            if given_value == node_value: # each instance is a 1dim np.array\n",
    "                node = child_node # change pointer to next node in path\n",
    "                break\n",
    "        else:\n",
    "            break           \n",
    "                \n",
    "\n",
    "    \n",
    "\n",
    "    ###########################################################################\n",
    "    #                             END OF YOUR CODE                            #\n",
    "    ###########################################################################\n",
    "    return node.pred"
   ]
  },
  {
   "cell_type": "code",
   "execution_count": 21,
   "metadata": {},
   "outputs": [],
   "source": [
    "def calc_accuracy(node, dataset):\n",
    "    \"\"\"\n",
    "    Predict a given dataset using the decision tree\n",
    " \n",
    "    Input:\n",
    "    - node: a node in the decision tree.\n",
    "    - dataset: the dataset on which the accuracy is evaluated\n",
    "\n",
    "    Output: the accuracy of the decision tree on the given dataset (%).\n",
    "    \"\"\"\n",
    "    accuracy = 0\n",
    "    ###########################################################################\n",
    "    # TODO: Implement the function.                                           #\n",
    "    ###########################################################################\n",
    "    #to caclculate accuracy we need to find how much instances we need to find true A true B false A and false B\n",
    "    #the accuracy will be (true_A +true_B)/(true_A + true_B + false_A + false_B) = true / all\n",
    "    true_predictions = 0\n",
    "    number_of_instances = dataset.shape[0]\n",
    "    \n",
    "    \n",
    "    #calculate the predict value for every instance in the data set\n",
    "    for instance in dataset:\n",
    "        #if the prediction == real label we need to add 1 to the true_prediction counter\n",
    "        if predict(node,instance) == instance[-1]:\n",
    "            true_predictions  += 1 # add one to correct prediction\n",
    "        \n",
    "        \n",
    "    \n",
    "    accuracy = true_predictions/ number_of_instances\n",
    "    ###########################################################################\n",
    "    #                             END OF YOUR CODE                            #\n",
    "    ###########################################################################\n",
    "    return accuracy "
   ]
  },
  {
   "cell_type": "code",
   "execution_count": 22,
   "metadata": {},
   "outputs": [
    {
     "data": {
      "text/plain": [
       "0.9161332676842278"
      ]
     },
     "execution_count": 22,
     "metadata": {},
     "output_type": "execute_result"
    }
   ],
   "source": [
    "calc_accuracy(test_tree, X_train)\n"
   ]
  },
  {
   "cell_type": "markdown",
   "metadata": {},
   "source": [
    "After building the three trees using the training set, you should calculate the accuracy on the test set. For each tree print the training and test accuracy. Select the tree that gave you the best test accuracy. For the rest of the exercise, use that tree (when you asked to build another tree use the same impurity function and same gain_ratio flag). "
   ]
  },
  {
   "cell_type": "code",
   "execution_count": 42,
   "metadata": {},
   "outputs": [
    {
     "name": "stdout",
     "output_type": "stream",
     "text": [
      "tree_gini accuracy statistics:\n",
      "\n",
      "X_train accuracy: 0.9924503528639422\n",
      "X_test accuracy: 0.7749876907927129\n",
      "\n",
      "\n",
      "tree_entropy accuracy statistics:\n",
      "\n",
      "X_train accuracy: 0.9940915805022157\n",
      "X_test accuracy: 0.7725258493353028\n",
      "\n",
      "\n",
      "tree_entropy_gain_ratio accuracy statistics:\n",
      "\n",
      "X_train accuracy: 0.971278516330215\n",
      "X_test accuracy: 0.8079763663220089\n",
      "\n",
      "\n"
     ]
    }
   ],
   "source": [
    "#### Your code here ####\n",
    "tree_gini_test_accuricy = calc_accuracy(tree_gini, X_test)\n",
    "tree_gini_train_accuricy = calc_accuracy(tree_gini, X_train)\n",
    "\n",
    "print(\"tree_gini accuracy statistics:\")\n",
    "print()\n",
    "print(f\"X_train accuracy: {tree_gini_train_accuricy}\")\n",
    "print(f\"X_test accuracy: {tree_gini_test_accuricy}\")\n",
    "print()\n",
    "print()\n",
    "\n",
    "tree_entropy_test_accuricy = calc_accuracy(tree_entropy, X_test)\n",
    "tree_entropy_train_accuricy = calc_accuracy(tree_entropy, X_train)\n",
    "\n",
    "print(\"tree_entropy accuracy statistics:\")\n",
    "print()\n",
    "print(f\"X_train accuracy: {tree_entropy_train_accuricy}\")\n",
    "print(f\"X_test accuracy: {tree_entropy_test_accuricy}\")\n",
    "print()\n",
    "print()\n",
    "\n",
    "tree_entropy_gain_ratio_test_accuricy = calc_accuracy(tree_entropy_gain_ratio, X_test)\n",
    "tree_entropy_gain_ratio_train_accuricy = calc_accuracy(tree_entropy_gain_ratio, X_train)\n",
    "\n",
    "print(\"tree_entropy_gain_ratio accuracy statistics:\")\n",
    "print()\n",
    "print(f\"X_train accuracy: {tree_entropy_gain_ratio_train_accuricy}\")\n",
    "print(f\"X_test accuracy: {tree_entropy_gain_ratio_test_accuricy}\")\n",
    "print()\n",
    "print()\n",
    "\n"
   ]
  },
  {
   "cell_type": "markdown",
   "metadata": {},
   "source": [
    "## Depth pruning\n",
    "\n",
    "(15 points)\n",
    "\n",
    "Consider the following max_depth values: [1, 2, 3, 4, 5, 6, 7, 8]. For each value, construct a tree and prune it according to the max_depth value = don't let the tree to grow beyond this depth. Next, calculate the training and testing accuracy.<br>\n",
    "On a single plot, draw the training and testing accuracy as a function of the max_depth. Mark the best result on the graph with red circle."
   ]
  },
  {
   "cell_type": "code",
   "execution_count": 43,
   "metadata": {},
   "outputs": [
    {
     "name": "stdout",
     "output_type": "stream",
     "text": [
      "for max depth = 1 the train_accuracy = 0.8885606433612342 and the test_accuracy = 0.8852781880846874\n",
      "\n",
      "for max depth = 2 the train_accuracy = 0.8885606433612342 and the test_accuracy = 0.8852781880846874\n",
      "\n",
      "for max depth = 3 the train_accuracy = 0.8964385360249466 and the test_accuracy = 0.8931560807483998\n",
      "\n",
      "for max depth = 4 the train_accuracy = 0.901854587231249 and the test_accuracy = 0.8956179222058099\n",
      "\n",
      "for max depth = 5 the train_accuracy = 0.9026752010503857 and the test_accuracy = 0.8902018709995076\n",
      "\n",
      "for max depth = 6 the train_accuracy = 0.9056294107992778 and the test_accuracy = 0.8788774002954209\n",
      "\n",
      "for max depth = 7 the train_accuracy = 0.913343180699163 and the test_accuracy = 0.8601674052191038\n",
      "\n",
      "for max depth = 8 the train_accuracy = 0.9218775644181848 and the test_accuracy = 0.8513047759724274\n",
      "\n"
     ]
    }
   ],
   "source": [
    "#### Your code here ####\n",
    "\n",
    "test_accuracy=[]\n",
    "train_accuracy =[]\n",
    "best_depth = 0\n",
    "best_accuracy = 0\n",
    "\n",
    "#create the list of accuracies for the train and the test\n",
    "for i in range(1,9):\n",
    "    tree = build_tree(X_train,calc_entropy,True, max_depth=i)\n",
    "    current_test_acc = calc_accuracy(tree,X_test)\n",
    "    current_train_acc = calc_accuracy(tree,X_train)\n",
    "    test_accuracy.append(current_test_acc)\n",
    "    train_accuracy.append(current_train_acc)\n",
    "    if current_test_acc > best_accuracy:\n",
    "        best_accuracy = current_test_acc\n",
    "        best_depth = i\n",
    "    print(f\"for max depth = {i} the train_accuracy = {current_train_acc} and the test_accuracy = {current_test_acc}\\n\" )\n",
    "    \n",
    "\n",
    "\n"
   ]
  },
  {
   "cell_type": "code",
   "execution_count": 44,
   "metadata": {},
   "outputs": [
    {
     "data": {
      "image/png": "[encoded data removed]",
      "text/plain": [
       "<Figure size 720x576 with 1 Axes>"
      ]
     },
     "metadata": {
      "needs_background": "light"
     },
     "output_type": "display_data"
    }
   ],
   "source": [
    "depth = list(range(1,9))\n",
    "plt.plot(depth, test_accuracy ,label = \"test\")\n",
    "plt.plot(depth,train_accuracy,label = \"train\")\n",
    "plt.scatter(x=best_depth, y=best_accuracy, linewidths= 2, label= \"best depth\", c='r')\n",
    "plt.legend()\n",
    "    \n",
    "    \n",
    "plt.xlabel(\"max_dapth\") \n",
    "plt.ylabel(\"accuracy\")  \n",
    "\n",
    "plt.show()"
   ]
  },
  {
   "cell_type": "markdown",
   "metadata": {},
   "source": [
    "## Min Samples Split\n",
    "\n",
    "(15 points)\n",
    "\n",
    "Consider the following min_samples_split values: [1, 5, 10, 20, 50]. For each value, construct a tree and prune it according to the min_samples_split value = don't split a node if the number of sample in it is less or equal to the min_samples_split value. Next, calculate the training and testing accuracy.<br>\n",
    "On a single plot, draw the training and testing accuracy as a function of the min_samples_split. Mark the best result on the graph with red circle. (make sure that the x-axis ticks represent the values of min_samples_split)"
   ]
  },
  {
   "cell_type": "code",
   "execution_count": 46,
   "metadata": {},
   "outputs": [
    {
     "name": "stdout",
     "output_type": "stream",
     "text": [
      "for min_samples_split = 1 the train_accuracy = 0.971278516330215 and the test_accuracy = 0.8079763663220089\n",
      "\n",
      "for min_samples_split = 5 the train_accuracy = 0.9158050221565731 and the test_accuracy = 0.844411619891679\n",
      "\n",
      "for min_samples_split = 10 the train_accuracy = 0.9038240603971771 and the test_accuracy = 0.880354505169867\n",
      "\n",
      "for min_samples_split = 20 the train_accuracy = 0.9020187099950763 and the test_accuracy = 0.8906942392909897\n",
      "\n",
      "for min_samples_split = 50 the train_accuracy = 0.9016904644674216 and the test_accuracy = 0.8951255539143279\n",
      "\n"
     ]
    }
   ],
   "source": [
    "#### Your code here ####\n",
    "list_of_splits = [1, 5, 10, 20, 50]\n",
    "test_accuracy=[]\n",
    "train_accuracy =[]\n",
    "best_split = 0\n",
    "best_accuracy = 0\n",
    "\n",
    "#create the list of accuracies for the train and the test\n",
    "for i in list_of_splits:\n",
    "    tree = build_tree(X_train,calc_entropy,True, min_samples_split=i)\n",
    "    current_test_acc = calc_accuracy(tree,X_test)\n",
    "    current_train_acc = calc_accuracy(tree,X_train)\n",
    "    test_accuracy.append(current_test_acc)\n",
    "    train_accuracy.append(current_train_acc)\n",
    "    if current_test_acc > best_accuracy:\n",
    "        best_accuracy = current_test_acc\n",
    "        best_split = i\n",
    "    print(f\"for min_samples_split = {i} the train_accuracy = {current_train_acc} and the test_accuracy = {current_test_acc}\\n\" )"
   ]
  },
  {
   "cell_type": "code",
   "execution_count": 48,
   "metadata": {},
   "outputs": [
    {
     "data": {
      "image/png": "[encoded data removed]",
      "text/plain": [
       "<Figure size 720x576 with 1 Axes>"
      ]
     },
     "metadata": {
      "needs_background": "light"
     },
     "output_type": "display_data"
    }
   ],
   "source": [
    "list_of_splits = [1, 5, 10, 20, 50]\n",
    "plt.plot(list_of_splits, test_accuracy ,label = \"test\")\n",
    "plt.plot(list_of_splits, train_accuracy,label = \"train\")\n",
    "plt.scatter(x=best_split, y=best_accuracy, linewidths= 2, label= \"best depth\", c='r')\n",
    "plt.legend()\n",
    "    \n",
    "    \n",
    "plt.xlabel(\"min_samples_split\") \n",
    "plt.ylabel(\"accuracy\")  \n",
    "\n",
    "plt.show()"
   ]
  },
  {
   "cell_type": "markdown",
   "metadata": {},
   "source": [
    "Build the best 2 trees:\n",
    "1. tree_max_depth - the best tree according to max_depth pruning\n",
    "1. tree_min_samples_split - the best tree according to min_samples_split pruning"
   ]
  },
  {
   "cell_type": "code",
   "execution_count": 28,
   "metadata": {},
   "outputs": [],
   "source": [
    "#### Your code here ####\n",
    "tree_max_depth = build_tree(X_train,calc_entropy,True, max_depth = 4)\n",
    "tree_min_sample_split = build_tree(X_train,calc_entropy,True,min_samples_split = 50)"
   ]
  },
  {
   "cell_type": "markdown",
   "metadata": {},
   "source": [
    "## Number of Nodes\n",
    "\n",
    "(5 points)\n",
    "\n",
    "Complete the function counts_nodes and print the number of nodes in each tree and print the number of nodes of the two trees above"
   ]
  },
  {
   "cell_type": "code",
   "execution_count": 29,
   "metadata": {},
   "outputs": [],
   "source": [
    "def count_nodes(node):\n",
    "    \"\"\"\n",
    "    Count the number of node in a given tree\n",
    " \n",
    "    Input:\n",
    "    - node: a node in the decision tree.\n",
    " \n",
    "    Output: the number of node in the tree.\n",
    "    \"\"\"\n",
    "    ###########################################################################\n",
    "    # TODO: Implement the function.                                           #\n",
    "    ###########################################################################\n",
    "    return node.count_children()\n",
    "    ###########################################################################\n",
    "    #                             END OF YOUR CODE                            #\n",
    "    ###########################################################################\n",
    "    "
   ]
  },
  {
   "cell_type": "code",
   "execution_count": 30,
   "metadata": {},
   "outputs": [
    {
     "name": "stdout",
     "output_type": "stream",
     "text": [
      "The number of nodes in tree_max_depth is 155\n",
      "The number of nodes in tree_min_sample_split is 317\n"
     ]
    }
   ],
   "source": [
    "print(f\"The number of nodes in tree_max_depth is {count_nodes(tree_max_depth)}\")\n",
    "print(f\"The number of nodes in tree_min_sample_split is {count_nodes(tree_min_sample_split)}\")"
   ]
  },
  {
   "cell_type": "markdown",
   "metadata": {},
   "source": [
    "## Print the tree\n",
    "\n",
    "Complete the function `print_tree`. Your tree should be visualized clearly. You can use the following example as a reference:\n",
    "```\n",
    "[ROOT, feature=X0],\n",
    "  [X0=a, feature=X2]\n",
    "    [X2=c, leaf]: [{1.0: 10}]\n",
    "    [X2=d, leaf]: [{0.0: 10}]\n",
    "  [X0=y, feature=X5], \n",
    "    [X5=a, leaf]: [{1.0: 5}]\n",
    "    [X5=s, leaf]: [{0.0: 10}]\n",
    "  [X0=e, leaf]: [{0.0: 25, 1.0: 50}]\n",
    "```\n",
    "In each brackets:\n",
    "* The first argument is the parent feature with the value that led to current node\n",
    "* The second argument is the selected feature of the current node\n",
    "* If the current node is a leaf, you need to print also the labels and their counts\n",
    "\n",
    "(5 points)"
   ]
  },
  {
   "cell_type": "code",
   "execution_count": 31,
   "metadata": {},
   "outputs": [],
   "source": [
    "def get_tuples_of_labels(node:DecisionNode):\n",
    "    vals, frequency = np.unique(node.data[:,-1], return_counts=True)\n",
    "    return list(zip(vals, frequency))\n"
   ]
  },
  {
   "cell_type": "code",
   "execution_count": 32,
   "metadata": {},
   "outputs": [
    {
     "name": "stdout",
     "output_type": "stream",
     "text": [
      "[('e', 3154), ('p', 2939)]\n"
     ]
    }
   ],
   "source": [
    "#test\n",
    "print(get_tuples_of_labels(tree_max_depth))"
   ]
  },
  {
   "cell_type": "code",
   "execution_count": 33,
   "metadata": {},
   "outputs": [],
   "source": [
    "# you can change the function signeture\n",
    "def print_tree(node, parent_feature='ROOT'):\n",
    "    '''\n",
    "    prints the tree according to the example above\n",
    "\n",
    "    Input:\n",
    "    - node: a node in the decision tree\n",
    "\n",
    "    This function has no return value\n",
    "    '''\n",
    "    ###########################################################################\n",
    "    # TODO: Implement the function.                                           #\n",
    "    ###########################################################################\n",
    "    if len(node.children) > 0: # if node  is not a leaf print its value and proceed to its children\n",
    "        print(f\"{' '*node.current_depth}[{parent_feature}, feature = X{node.feature}],\")\n",
    "        for child_node in node.children:\n",
    "            print_tree(child_node, node.feature) #print each child\n",
    "    else:\n",
    "       print(f\"{' '*node.current_depth}[{parent_feature}, leaf]: [{get_tuples_of_labels(node)}]\") \n",
    "\n",
    "    ###########################################################################\n",
    "    #                             END OF YOUR CODE                            #\n",
    "    ###########################################################################"
   ]
  },
  {
   "cell_type": "code",
   "execution_count": 34,
   "metadata": {},
   "outputs": [
    {
     "name": "stdout",
     "output_type": "stream",
     "text": [
      "The number of nodes in test_tree is 46 and its accuracy on the test set is 0.8931560807483998\n"
     ]
    }
   ],
   "source": [
    "#base on the following guidlines test_tree here has the best accuracy based on both pruning methods and limitations of node number \n",
    "test_tree = build_tree(X_train, calc_entropy, gain_ratio=True, min_samples_split=225, max_depth=4)\n",
    "print(f\"The number of nodes in test_tree is {count_nodes(test_tree)} and its accuracy on the test set is {calc_accuracy(test_tree, X_test)}\")\n"
   ]
  },
  {
   "cell_type": "markdown",
   "metadata": {},
   "source": [
    "print the tree with the best test accuracy and with less than 50 nodes (from the two pruning methods)"
   ]
  },
  {
   "cell_type": "code",
   "execution_count": 35,
   "metadata": {},
   "outputs": [
    {
     "name": "stdout",
     "output_type": "stream",
     "text": [
      "[ROOT, feature = X4],\n",
      " [4, feature = X2],\n",
      "  [2, leaf]: [[('e', 33), ('p', 5)]]\n",
      "  [2, leaf]: [[('e', 107), ('p', 7)]]\n",
      "  [2, leaf]: [[('e', 133), ('p', 19)]]\n",
      " [4, leaf]: [[('e', 10), ('p', 137)]]\n",
      " [4, feature = X10],\n",
      "  [10, leaf]: [[('e', 14), ('p', 91)]]\n",
      "  [10, feature = X11],\n",
      "   [11, feature = X7],\n",
      "    [7, leaf]: [[('e', 112), ('p', 854)]]\n",
      "    [7, leaf]: [[('e', 6), ('p', 97)]]\n",
      "   [11, leaf]: [[('e', 16), ('p', 86)]]\n",
      "  [10, feature = X19],\n",
      "   [19, leaf]: [[('e', 2), ('p', 55)]]\n",
      "   [19, feature = X11],\n",
      "    [11, leaf]: [[('e', 4), ('p', 24)]]\n",
      "    [11, leaf]: [[('e', 6), ('p', 107)]]\n",
      "    [11, leaf]: [[('e', 10), ('p', 124)]]\n",
      " [4, leaf]: [[('e', 272), ('p', 27)]]\n",
      " [4, leaf]: [[('e', 2), ('p', 25)]]\n",
      " [4, feature = X7],\n",
      "  [7, feature = X18],\n",
      "   [18, leaf]: [[('e', 34), ('p', 2)]]\n",
      "   [18, feature = X11],\n",
      "    [11, leaf]: [[('e', 126), ('p', 19)]]\n",
      "    [11, leaf]: [[('e', 717), ('p', 74)]]\n",
      "   [18, feature = X15],\n",
      "    [15, leaf]: [[('e', 14), ('p', 4)]]\n",
      "    [15, leaf]: [[('e', 18), ('p', 1)]]\n",
      "    [15, leaf]: [[('e', 850), ('p', 100)]]\n",
      "   [18, leaf]: [[('e', 28), ('p', 4)]]\n",
      "   [18, leaf]: [[('e', 6), ('p', 46)]]\n",
      "   [18, feature = X13],\n",
      "    [13, leaf]: [[('e', 62), ('p', 9)]]\n",
      "    [13, leaf]: [[('e', 12), ('p', 2)]]\n",
      "    [13, leaf]: [[('e', 295), ('p', 22)]]\n",
      "   [18, leaf]: [[('e', 35), ('p', 3)]]\n",
      "  [7, leaf]: [[('e', 135), ('p', 58)]]\n",
      " [4, leaf]: [[('e', 8), ('p', 175)]]\n",
      " [4, feature = X13],\n",
      "  [13, leaf]: [[('e', 12), ('p', 190)]]\n",
      "  [13, leaf]: [[('e', 26), ('p', 190)]]\n",
      " [4, feature = X1],\n",
      "  [1, leaf]: [[('e', 18), ('p', 194)]]\n",
      "  [1, leaf]: [[('e', 31), ('p', 188)]]\n"
     ]
    }
   ],
   "source": [
    "#### Your code here ####\n",
    "print_tree(test_tree)"
   ]
  },
  {
   "cell_type": "code",
   "execution_count": null,
   "metadata": {},
   "outputs": [],
   "source": []
  }
 ],
 "metadata": {
  "celltoolbar": "Create Assignment",
  "kernelspec": {
   "display_name": "Python 3 (ipykernel)",
   "language": "python",
   "name": "python3"
  },
  "language_info": {
   "codemirror_mode": {
    "name": "ipython",
    "version": 3
   },
   "file_extension": ".py",
   "mimetype": "text/x-python",
   "name": "python",
   "nbconvert_exporter": "python",
   "pygments_lexer": "ipython3",
   "version": "3.8.8"
  }
 },
 "nbformat": 4,
 "nbformat_minor": 4
}
